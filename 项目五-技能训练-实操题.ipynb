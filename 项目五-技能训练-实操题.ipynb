{
 "cells": [
  {
   "cell_type": "markdown",
   "metadata": {},
   "source": [
    "#### （一）试比较下面两段代码的运行结果，说明continue与break的区别。"
   ]
  },
  {
   "cell_type": "code",
   "execution_count": 7,
   "metadata": {},
   "outputs": [
    {
     "name": "stdout",
     "output_type": "stream",
     "text": [
      "2016\n"
     ]
    }
   ],
   "source": [
    "cSoftList1=[\"2016\", 118506980.11, 2813478299.78, 2908311215.34] \n",
    "length=len(cSoftList1)\n",
    "\n",
    "for i in range(length):\n",
    "    if (i==1):\n",
    "        break\n",
    "    print(cSoftList1[i]) "
   ]
  },
  {
   "cell_type": "code",
   "execution_count": 8,
   "metadata": {},
   "outputs": [
    {
     "name": "stdout",
     "output_type": "stream",
     "text": [
      "2016\n",
      "2813478299.78\n",
      "2908311215.34\n"
     ]
    }
   ],
   "source": [
    "cSoftList1=[\"2016\", 118506980.11, 2813478299.78, 2908311215.34] \n",
    "length=len(cSoftList1)\n",
    "\n",
    "for i in range(length):\n",
    "    if (i==1):\n",
    "        continue\n",
    "    print(cSoftList1[i]) "
   ]
  },
  {
   "cell_type": "markdown",
   "metadata": {},
   "source": [
    "#### （二）试将下面的while循环改成for循环的写法。"
   ]
  },
  {
   "cell_type": "code",
   "execution_count": 10,
   "metadata": {},
   "outputs": [
    {
     "name": "stdout",
     "output_type": "stream",
     "text": [
      "2016\n",
      "118506980.11\n",
      "2813478299.78\n",
      "2908311215.34\n"
     ]
    }
   ],
   "source": [
    "cSoftList1=[\"2016\", 118506980.11, 2813478299.78, 2908311215.34] \n",
    "length=len(cSoftList1)\n",
    "i=0\n",
    "while i<length:\n",
    "    print(cSoftList1[i])\n",
    "    i=i+1"
   ]
  },
  {
   "cell_type": "code",
   "execution_count": 11,
   "metadata": {},
   "outputs": [
    {
     "name": "stdout",
     "output_type": "stream",
     "text": [
      "2016\n",
      "118506980.11\n",
      "2813478299.78\n",
      "2908311215.34\n"
     ]
    }
   ],
   "source": [
    "cSoftList1=[\"2016\", 118506980.11, 2813478299.78, 2908311215.34] \n",
    "length=len(cSoftList1)\n",
    "\n",
    "for i in range(length):\n",
    "    print(cSoftList1[i])"
   ]
  },
  {
   "cell_type": "markdown",
   "metadata": {},
   "source": [
    "#### （三）根据2016年至2019年中国软件的销售毛利率，判断相邻年份间销售毛利率是增加了还是下降了？增加或下降了多少？"
   ]
  },
  {
   "cell_type": "code",
   "execution_count": 3,
   "metadata": {},
   "outputs": [
    {
     "name": "stdout",
     "output_type": "stream",
     "text": [
      "2017年的销售毛利率比2016年的销售毛利率增加了-0.92%\n",
      "2018年的销售毛利率比2017年的销售毛利率增加了0.93%\n",
      "2019年的销售毛利率比2018年的销售毛利率增加了-4.68%\n"
     ]
    }
   ],
   "source": [
    "# 用while循环编写\n",
    "cSoft=[{\"period\":2016,\"GrossMargin\":0.3911},\n",
    "       {\"period\":2017,\"GrossMargin\":0.3819},\n",
    "       {\"period\":2018,\"GrossMargin\":0.3912},\n",
    "       {\"period\":2019,\"GrossMargin\":0.3444}]\n",
    "\n",
    "# 遍历列表中的每个数据，比较相邻年度销售毛利率的变化\n",
    "preGrossMargin=0       # preROE用于存储上个年度的ROE值\n",
    "prePeriod=\"\"           # prePeriod用于存储上个年度的年份\n",
    "\n",
    "length = len(cSoft) # len()函数用于获取列表的长度，即列表元素个数\n",
    "\n",
    "# 进入循环前，先给preGrossMargin和prePeriod赋cSoft列表中索引为0的元素的period和GrossMargin值\n",
    "prePeriod = cSoft[0][\"period\"]\n",
    "preGrossMargin = cSoft[0][\"GrossMargin\"]\n",
    "\n",
    "i=1    # 为循环变量赋初值，i用于指示列表中元素的索引位置，首次进入循环参与比较的是列表中索引为1的元素\n",
    "while(i<length):\n",
    "    curperiod=cSoft[i][\"period\"]\n",
    "    curGrossMargin=cSoft[i][\"GrossMargin\"]\n",
    "    \n",
    "    # 计算变化量\n",
    "    growth = curGrossMargin-preGrossMargin\n",
    "    # 百分比显示变化量\n",
    "    growth='{:.2%}'.format(growth)\n",
    "    # 输出相邻两个年度的净资产收益率的变化\n",
    "    print(\"{}年的销售毛利率比{}年的销售毛利率增加了{}\"\\\n",
    "          .format(curperiod,prePeriod,growth))\n",
    "    \n",
    "    # 为下一次循环做准备\n",
    "    prePeriod = curperiod\n",
    "    preGrossMargin = curGrossMargin\n",
    "    i = i+1   # 循环变量i增1"
   ]
  },
  {
   "cell_type": "code",
   "execution_count": 6,
   "metadata": {},
   "outputs": [
    {
     "name": "stdout",
     "output_type": "stream",
     "text": [
      "2017年的销售毛利率比2016年的销售毛利率增加了-0.92%\n",
      "2018年的销售毛利率比2017年的销售毛利率增加了0.93%\n",
      "2019年的销售毛利率比2018年的销售毛利率增加了-4.68%\n"
     ]
    }
   ],
   "source": [
    "# 用for循环编写\n",
    "cSoft=[{\"period\":2016,\"GrossMargin\":0.3911},\n",
    "       {\"period\":2017,\"GrossMargin\":0.3819},\n",
    "       {\"period\":2018,\"GrossMargin\":0.3912},\n",
    "       {\"period\":2019,\"GrossMargin\":0.3444}]\n",
    "\n",
    "# 遍历列表中的每个数据，比较相邻年度销售毛利率的变化\n",
    "preGrossMargin=0       # preROE用于存储上个年度的ROE值\n",
    "prePeriod=\"\"           # prePeriod用于存储上个年度的年份\n",
    "\n",
    "length = len(cSoft) # len()函数用于获取列表的长度，即列表元素个数\n",
    "\n",
    "# 进入循环前，先给preGrossMargin和prePeriod赋cSoft列表中索引为0的元素的period和GrossMargin值\n",
    "prePeriod = cSoft[0][\"period\"]\n",
    "preGrossMargin = cSoft[0][\"GrossMargin\"]\n",
    "\n",
    "for i in range(1,length):\n",
    "    curperiod=cSoft[i][\"period\"]\n",
    "    curGrossMargin=cSoft[i][\"GrossMargin\"]\n",
    "    \n",
    "    # 计算变化量\n",
    "    growth = curGrossMargin-preGrossMargin\n",
    "    # 百分比显示变化量\n",
    "    growth='{:.2%}'.format(growth)\n",
    "    # 输出相邻两个年度的净资产收益率的变化\n",
    "    print(\"{}年的销售毛利率比{}年的销售毛利率增加了{}\"\\\n",
    "          .format(curperiod,prePeriod,growth))\n",
    "    \n",
    "    # 为下一次循环做准备\n",
    "    prePeriod = curperiod\n",
    "    preGrossMargin = curGrossMargin"
   ]
  },
  {
   "cell_type": "markdown",
   "metadata": {},
   "source": [
    "#### （四）根据2010年至2019年中国软件的净资产收益率，判断相邻年份的净资产收益率是增加了还是下降了？增加或下降了多少？"
   ]
  },
  {
   "cell_type": "code",
   "execution_count": 8,
   "metadata": {},
   "outputs": [
    {
     "name": "stdout",
     "output_type": "stream",
     "text": [
      "2011年的净资产收益率比2010年的净资产收益率增加了1.46%\n",
      "2012年的净资产收益率比2011年的净资产收益率增加了-3.97%\n",
      "2013年的净资产收益率比2012年的净资产收益率增加了-0.40%\n",
      "2014年的净资产收益率比2013年的净资产收益率增加了-3.32%\n",
      "2015年的净资产收益率比2014年的净资产收益率增加了1.92%\n",
      "2016年的净资产收益率比2015年的净资产收益率增加了0.14%\n",
      "2017年的净资产收益率比2016年的净资产收益率增加了-1.88%\n",
      "2018年的净资产收益率比2017年的净资产收益率增加了2.76%\n",
      "2019年的净资产收益率比2018年的净资产收益率增加了0.26%\n"
     ]
    }
   ],
   "source": [
    "# 用while循环编写\n",
    "cSoftList=[{\"period\":2010,\"ROE\":0.0831},\n",
    "       {\"period\":2011,\"ROE\":0.0977},\n",
    "       {\"period\":2012,\"ROE\":0.0580},\n",
    "       {\"period\":2013,\"ROE\":0.0540},\n",
    "       {\"period\":2014,\"ROE\":0.0208},\n",
    "       {\"period\":2015,\"ROE\":0.0400},\n",
    "       {\"period\":2016,\"ROE\":0.0414},\n",
    "       {\"period\":2017,\"ROE\":0.0226},\n",
    "       {\"period\":2018,\"ROE\":0.0502},\n",
    "       {\"period\":2019,\"ROE\":0.0528}]\n",
    "# 遍历列表中的每个数据，比较相邻年度净资产收益率的变化\n",
    "preROE=0       # preROE用于存储上个年度的ROE值\n",
    "prePeriod=\"\"   # prePeriod用于存储上个年度的年份\n",
    "\n",
    "length = len(cSoftList) # len()函数用于获取列表的长度，即列表元素个数\n",
    "\n",
    "# 进入循环前，先给prePeriod和preROE赋列表中索引为0的元素的年份和ROE值\n",
    "prePeriod = cSoftList[0][\"period\"]\n",
    "preROE = cSoftList[0][\"ROE\"]\n",
    "\n",
    "i=1    # 为循环变量赋初值，i用于指示列表中元素的索引位置，首次进入循环参与比较的是列表中索引为1的元素\n",
    "while(i<length):\n",
    "    period=cSoftList[i][\"period\"]\n",
    "    roe=cSoftList[i][\"ROE\"]\n",
    "    \n",
    "    # 计算变化量\n",
    "    growth = roe-preROE\n",
    "    # 百分比显示变化量\n",
    "    growth='{:.2%}'.format(growth)\n",
    "    # 输出相邻两个年度的净资产收益率的变化\n",
    "    print(\"{}年的净资产收益率比{}年的净资产收益率增加了{}\"\\\n",
    "          .format(period,prePeriod,growth))\n",
    "    \n",
    "    # 为下一次循环做准备\n",
    "    prePeriod = period\n",
    "    preROE = roe\n",
    "    i = i+1   # 循环变量i增1"
   ]
  },
  {
   "cell_type": "code",
   "execution_count": 9,
   "metadata": {},
   "outputs": [
    {
     "name": "stdout",
     "output_type": "stream",
     "text": [
      "2011年的净资产收益率比2010年的净资产收益率增加了1.46%\n",
      "2012年的净资产收益率比2011年的净资产收益率增加了-3.97%\n",
      "2013年的净资产收益率比2012年的净资产收益率增加了-0.40%\n",
      "2014年的净资产收益率比2013年的净资产收益率增加了-3.32%\n",
      "2015年的净资产收益率比2014年的净资产收益率增加了1.92%\n",
      "2016年的净资产收益率比2015年的净资产收益率增加了0.14%\n",
      "2017年的净资产收益率比2016年的净资产收益率增加了-1.88%\n",
      "2018年的净资产收益率比2017年的净资产收益率增加了2.76%\n",
      "2019年的净资产收益率比2018年的净资产收益率增加了0.26%\n"
     ]
    }
   ],
   "source": [
    "# 用for循环编写\n",
    "cSoftList=[{\"period\":2010,\"ROE\":0.0831},\n",
    "       {\"period\":2011,\"ROE\":0.0977},\n",
    "       {\"period\":2012,\"ROE\":0.0580},\n",
    "       {\"period\":2013,\"ROE\":0.0540},\n",
    "       {\"period\":2014,\"ROE\":0.0208},\n",
    "       {\"period\":2015,\"ROE\":0.0400},\n",
    "       {\"period\":2016,\"ROE\":0.0414},\n",
    "       {\"period\":2017,\"ROE\":0.0226},\n",
    "       {\"period\":2018,\"ROE\":0.0502},\n",
    "       {\"period\":2019,\"ROE\":0.0528}]\n",
    "# 遍历列表中的每个数据，比较相邻年度净资产收益率的变化\n",
    "preROE=0       # preROE用于存储上个年度的ROE值\n",
    "prePeriod=\"\"   # prePeriod用于存储上个年度的年份\n",
    "\n",
    "length = len(cSoftList) # len()函数用于获取列表的长度，即列表元素个数\n",
    "\n",
    "# 进入循环前，先给prePeriod和preROE赋列表中索引为0的元素的年份和ROE值\n",
    "prePeriod = cSoftList[0][\"period\"]\n",
    "preROE = cSoftList[0][\"ROE\"]\n",
    "\n",
    "for i in range(1,length):\n",
    "    period=cSoftList[i][\"period\"]\n",
    "    roe=cSoftList[i][\"ROE\"]\n",
    "    \n",
    "    # 计算变化量\n",
    "    growth = roe-preROE\n",
    "    # 百分比显示变化量\n",
    "    growth='{:.2%}'.format(growth)\n",
    "    # 输出相邻两个年度的净资产收益率的变化\n",
    "    print(\"{}年的净资产收益率比{}年的净资产收益率增加了{}\"\\\n",
    "          .format(period,prePeriod,growth))\n",
    "    \n",
    "    # 为下一次循环做准备\n",
    "    prePeriod = period\n",
    "    preROE = roe"
   ]
  }
 ],
 "metadata": {
  "kernelspec": {
   "display_name": "Python 3",
   "language": "python",
   "name": "python3"
  },
  "language_info": {
   "codemirror_mode": {
    "name": "ipython",
    "version": 3
   },
   "file_extension": ".py",
   "mimetype": "text/x-python",
   "name": "python",
   "nbconvert_exporter": "python",
   "pygments_lexer": "ipython3",
   "version": "3.9.5"
  }
 },
 "nbformat": 4,
 "nbformat_minor": 4
}
