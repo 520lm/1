{
 "cells": [
  {
   "cell_type": "markdown",
   "id": "805d370f",
   "metadata": {},
   "source": [
    "# 简单示例\n",
    "## 这是一个示例"
   ]
  },
  {
   "cell_type": "code",
   "execution_count": 7,
   "id": "6f4d3bf6",
   "metadata": {},
   "outputs": [
    {
     "name": "stdout",
     "output_type": "stream",
     "text": [
      "欢迎进入财务大数据的学习\n",
      "欢迎进入财务大数据的学习！\n"
     ]
    }
   ],
   "source": [
    "print(\"欢迎进入财务大数据的学习\")\n",
    "print(\"欢迎进入财务大数据的学习！\")"
   ]
  },
  {
   "cell_type": "markdown",
   "id": "7439ac07",
   "metadata": {},
   "source": [
    "## 北京MG公司2019年度销售毛利率\n",
    "### 销售毛利率计算公式："
   ]
  },
  {
   "cell_type": "markdown",
   "id": "42e4dc3c",
   "metadata": {},
   "source": [
    "### 销售毛利率=（营业收入-营业成本）/营业收入*100%"
   ]
  },
  {
   "cell_type": "code",
   "execution_count": 8,
   "id": "9e2c507f",
   "metadata": {},
   "outputs": [
    {
     "data": {
      "text/plain": [
       "0.4219672131147541"
      ]
     },
     "execution_count": 8,
     "metadata": {},
     "output_type": "execute_result"
    }
   ],
   "source": [
    "115.83/274.50"
   ]
  },
  {
   "cell_type": "code",
   "execution_count": 9,
   "id": "e45275cd",
   "metadata": {},
   "outputs": [
    {
     "name": "stdout",
     "output_type": "stream",
     "text": [
      "0.4219672131147541\n"
     ]
    }
   ],
   "source": [
    "print(115.83/274.50)"
   ]
  },
  {
   "cell_type": "code",
   "execution_count": 10,
   "id": "c521e3da",
   "metadata": {},
   "outputs": [
    {
     "name": "stdout",
     "output_type": "stream",
     "text": [
      "第二季度销售毛利率=\n",
      "0.42636057335389177\n"
     ]
    }
   ],
   "source": [
    "print('第二季度销售毛利率=')\n",
    "print(223.98/525.33)"
   ]
  },
  {
   "cell_type": "code",
   "execution_count": 11,
   "id": "9605a8c1",
   "metadata": {},
   "outputs": [
    {
     "name": "stdout",
     "output_type": "stream",
     "text": [
      "第三季度销售毛利率=0.3603966637025698\n"
     ]
    }
   ],
   "source": [
    "print('第三季度销售毛利率=',end='')\n",
    "print(320.18/888.41)"
   ]
  },
  {
   "cell_type": "code",
   "execution_count": 12,
   "id": "44871422",
   "metadata": {},
   "outputs": [
    {
     "name": "stdout",
     "output_type": "stream",
     "text": [
      "第四季度销售毛利率=47.79055131324997%\n"
     ]
    }
   ],
   "source": [
    "print('第四季度销售毛利率=',end='')\n",
    "print(284.76/595.85*100,end='')\n",
    "print('%')"
   ]
  },
  {
   "cell_type": "code",
   "execution_count": 13,
   "id": "a1c4a905",
   "metadata": {},
   "outputs": [
    {
     "name": "stdout",
     "output_type": "stream",
     "text": [
      "第四季度销售毛利率=47.79%\n"
     ]
    }
   ],
   "source": [
    "print('第四季度销售毛利率=',end='')\n",
    "print(round((284.76/595.85*100),2),end='')\n",
    "print('%')"
   ]
  }
 ],
 "metadata": {
  "kernelspec": {
   "display_name": "Python 3",
   "language": "python",
   "name": "python3"
  },
  "language_info": {
   "codemirror_mode": {
    "name": "ipython",
    "version": 3
   },
   "file_extension": ".py",
   "mimetype": "text/x-python",
   "name": "python",
   "nbconvert_exporter": "python",
   "pygments_lexer": "ipython3",
   "version": "3.9.5"
  }
 },
 "nbformat": 4,
 "nbformat_minor": 5
}
