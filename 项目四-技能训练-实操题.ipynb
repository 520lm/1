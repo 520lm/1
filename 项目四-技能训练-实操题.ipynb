{
 "cells": [
  {
   "cell_type": "markdown",
   "metadata": {},
   "source": [
    "#### （一）根据2018年和2019年中国软件的净资产收益率，判断这两年的净资产收益率是增加了还是下降了？增加或下降了多少？"
   ]
  },
  {
   "cell_type": "code",
   "execution_count": 3,
   "metadata": {},
   "outputs": [
    {
     "name": "stdout",
     "output_type": "stream",
     "text": [
      "2019年的净资产收益率相比2018年的净资产收益率增加了0.26%。\n"
     ]
    }
   ],
   "source": [
    "ROE18=0.0502\n",
    "ROE19=0.0528\n",
    "growth=ROE19-ROE18\n",
    "if(growth < 0):\n",
    "    print(\"2019年的净资产收益率相比2018年的净资产收益率下降了{:.2%}。\".format(growth))\n",
    "elif(growth == 0):\n",
    "    print(\"2019年的净资产收益率与2018年的净资产收益率持平。\")\n",
    "else:\n",
    "    print(\"2019年的净资产收益率相比2018年的净资产收益率增加了{:.2%}。\".format(growth))"
   ]
  },
  {
   "cell_type": "markdown",
   "metadata": {},
   "source": [
    "#### （二）编写程序计算2019年中国软件和用友网络的总资产周转率，并判断哪家的总资产周转率更高。"
   ]
  },
  {
   "cell_type": "code",
   "execution_count": 7,
   "metadata": {},
   "outputs": [
    {
     "name": "stdout",
     "output_type": "stream",
     "text": [
      "中国软件的总资产周转率更高。\n"
     ]
    }
   ],
   "source": [
    "# 定义字典变量UFSoftDict,存储用友网络2019年的相关数据\n",
    "UFSoftDict={\"revenue\":8509659748.00 ,\"beginAsset\":15220896594.00,\"endAsset\":17538382707.00}\n",
    "\n",
    "# 定义字典变量cSoftDict,存储中国软件2019年的相关数据\n",
    "cSoftDict={\"revenue\":5819592183.30,\"beginAsset\":5710849324.19,\"endAsset\":6743722131.78}\n",
    "\n",
    "# 根据总资产周转率的计算公式计算用友网络2019年的总资产周转率\n",
    "ufSoftTATO= UFSoftDict[\"revenue\"] / ((UFSoftDict[\"beginAsset\"] + UFSoftDict[\"endAsset\"]) / 2)\n",
    "\n",
    "# 根据总资产周转率的计算公式计算中国软件2019年的总资产周转率\n",
    "cSoftTATO= cSoftDict[\"revenue\"] / ((cSoftDict[\"beginAsset\"] + cSoftDict[\"endAsset\"]) / 2)\n",
    "\n",
    "# 判断哪家总资产周转率更高\n",
    "growth=ufSoftTATO-cSoftTATO\n",
    "if(growth < 0):\n",
    "    print(\"中国软件的总资产周转率更高。\")\n",
    "elif(growth == 0):\n",
    "    print(\"中国软件和用友网络的总资产周转率持平。\")\n",
    "else:\n",
    "    print(\"用友网络的总资产周转率更高。\")"
   ]
  },
  {
   "cell_type": "markdown",
   "metadata": {},
   "source": [
    "#### （三）编写程序计算中国软件各年度的总资产周转率，并判断哪一年的总资产周转率最高，哪一年的总资产周转率最低。"
   ]
  },
  {
   "cell_type": "code",
   "execution_count": 8,
   "metadata": {},
   "outputs": [
    {
     "name": "stdout",
     "output_type": "stream",
     "text": [
      "[0.8796009063278003, 0.8401221514592476, 0.9345311003070162]\n",
      "[2017, 2018, 2019]\n",
      "最大值是0.9345311003070162,所属年是2019\n",
      "最小值是0.8401221514592476,所属年是2018\n"
     ]
    }
   ],
   "source": [
    "# 参考答案，编程答案不唯一，第一种写法利用了python的max()函数和列表的index()方法\n",
    "cSoft17=[4942995517.06,5967906666.14,5271271196.23]\n",
    "cSoft18=[4613161359.60,5271271196.23,5710849324.19]\n",
    "cSoft19=[5819592183.30,5710849324.19,6743722131.78]\n",
    "\n",
    "TATO=[]\n",
    "TATO.append(cSoft17[0] / ((cSoft17[1] + cSoft17[2]) / 2))   # 2017的总资产周转率追加到TATO的0位置\n",
    "TATO.append(cSoft18[0] / ((cSoft18[1] + cSoft18[2]) / 2))   # 2018的总资产周转率追加到TATO的1位置\n",
    "TATO.append(cSoft19[0] / ((cSoft19[1] + cSoft19[2]) / 2))   # 2019的总资产周转率追加到TATO的2位置\n",
    "print(TATO)\n",
    "year1=[2017,2018,2019]   # year1中年的顺序与TATO中总资产周转率所属年的顺序一致\n",
    "print(year1)\n",
    "\n",
    "maxTATO=max(TATO)   # 列表中的最大值\n",
    "max_loc=TATO.index(maxTATO)    # 列表中最大值对应的位置\n",
    "max_year=year1[max_loc]        # 从year1中取出对应的年\n",
    "\n",
    "minTATO=min(TATO)   # 列表中的最小值\n",
    "min_loc=TATO.index(minTATO)    # 列表中最小值对应的位置\n",
    "min_year=year1[min_loc]        # 从year1中取出对应的年\n",
    "\n",
    "print( \"最大值是{},所属年是{}\".format(maxTATO,max_year))\n",
    "print( \"最小值是{},所属年是{}\".format(minTATO,min_year))"
   ]
  },
  {
   "cell_type": "code",
   "execution_count": 9,
   "metadata": {},
   "outputs": [
    {
     "name": "stdout",
     "output_type": "stream",
     "text": [
      "最大值是0.9345311003070162,所属年是2019\n",
      "最小值是0.8401221514592476,所属年是2018\n"
     ]
    }
   ],
   "source": [
    "# 第二种写法，利用分支语句完成判断，注意写对三个数之间的判断逻辑\n",
    "cSoft17={\"period\":\"2017\",\"revenue\":4942995517.06,\"beginAsset\":5967906666.14,\"endAsset\":5271271196.23}\n",
    "cSoft18={\"period\":\"2018\",\"revenue\":4613161359.60,\"beginAsset\":5271271196.23,\"endAsset\":5710849324.19}\n",
    "cSoft19={\"period\":\"2019\",\"revenue\":5819592183.30,\"beginAsset\":5710849324.19,\"endAsset\":6743722131.78}\n",
    "\n",
    "cSoft17[\"TATO\"]=cSoft17[\"revenue\"] / ((cSoft17[\"beginAsset\"] + cSoft17[\"endAsset\"]) / 2)\n",
    "cSoft18[\"TATO\"]=cSoft18[\"revenue\"] / ((cSoft18[\"beginAsset\"] + cSoft18[\"endAsset\"]) / 2)\n",
    "cSoft19[\"TATO\"]=cSoft19[\"revenue\"] / ((cSoft19[\"beginAsset\"] + cSoft19[\"endAsset\"]) / 2)\n",
    "\n",
    "if (cSoft17[\"TATO\"]<cSoft18[\"TATO\"]):\n",
    "    if (cSoft17[\"TATO\"]<cSoft19[\"TATO\"]):\n",
    "        print( \"最小值是{},所属年是{}\".format(cSoft17[\"TATO\"],cSoft17[\"period\"]))\n",
    "        if(cSoft18[\"TATO\"]<cSoft19[\"TATO\"]):\n",
    "            print( \"最大值是{},所属年是{}\".format(cSoft19[\"TATO\"],cSoft19[\"period\"]))\n",
    "        else:\n",
    "            print( \"最大值是{},所属年是{}\".format(cSoft18[\"TATO\"],cSoft18[\"period\"]))\n",
    "    else:\n",
    "        print( \"最大值是{},所属年是{}\".format(cSoft18[\"TATO\"],cSoft18[\"period\"]))\n",
    "        print( \"最小值是{},所属年是{}\".format(cSoft19[\"TATO\"],cSoft19[\"period\"]))\n",
    "elif(cSoft17[\"TATO\"]<cSoft19[\"TATO\"]):\n",
    "    print( \"最大值是{},所属年是{}\".format(cSoft19[\"TATO\"],cSoft19[\"period\"]))\n",
    "    print( \"最小值是{},所属年是{}\".format(cSoft18[\"TATO\"],cSoft18[\"period\"]))\n",
    "else:\n",
    "    print( \"最大值是{},所属年是{}\".format(cSoft17[\"TATO\"],cSoft17[\"period\"]))\n",
    "    if(cSoft18[\"TATO\"]<cSoft19[\"TATO\"]):\n",
    "        print( \"最小值是{},所属年是{}\".format(cSoft18[\"TATO\"],cSoft18[\"period\"]))\n",
    "    else:\n",
    "        print( \"最小值是{},所属年是{}\".format(cSoft19[\"TATO\"],cSoft19[\"period\"]))"
   ]
  }
 ],
 "metadata": {
  "kernelspec": {
   "display_name": "Python 3",
   "language": "python",
   "name": "python3"
  },
  "language_info": {
   "codemirror_mode": {
    "name": "ipython",
    "version": 3
   },
   "file_extension": ".py",
   "mimetype": "text/x-python",
   "name": "python",
   "nbconvert_exporter": "python",
   "pygments_lexer": "ipython3",
   "version": "3.9.5"
  }
 },
 "nbformat": 4,
 "nbformat_minor": 4
}
